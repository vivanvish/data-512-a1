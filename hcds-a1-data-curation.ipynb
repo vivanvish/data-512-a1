{
 "cells": [
  {
   "cell_type": "markdown",
   "metadata": {},
   "source": [
    "## Assignment - 1: Data Curation\n",
    "#### Vishnu Nandakumar"
   ]
  },
  {
   "cell_type": "markdown",
   "metadata": {},
   "source": [
    "This notebook provides a detailed overview of the steps involved in fetching and processing the Wikipedia page views data from January 1st, 2008 till September 30, 2018.\n",
    "\n",
    "The process can be broadly divided into three parts:\n",
    " - Data acquisition : Acquiring the data through Wikipedia API and save them.\n",
    " - Data processing : Processing the saved data to prepare them for analysis. \n",
    " - Analysis : Visualizing the dataset created in previous step as a time series graph. \n"
   ]
  },
  {
   "cell_type": "markdown",
   "metadata": {},
   "source": [
    "First lets import the required packages."
   ]
  },
  {
   "cell_type": "code",
   "execution_count": 1,
   "metadata": {},
   "outputs": [],
   "source": [
    "import datetime\n",
    "import json\n",
    "import matplotlib.pyplot as plt\n",
    "import numpy as np\n",
    "import os\n",
    "import pandas as pd\n",
    "import requests"
   ]
  },
  {
   "cell_type": "markdown",
   "metadata": {},
   "source": [
    "#### Common variables"
   ]
  },
  {
   "cell_type": "code",
   "execution_count": 2,
   "metadata": {},
   "outputs": [],
   "source": [
    "# Defining request headers and map for various website types. \n",
    "HEADERS={'User-Agent' : 'https://github.com/vivanvish', 'From' : 'vishnn@uw.edu'}\n",
    "FILE_NAME_FORMAT = '{apiname}_{accesstype}_{start}-{end}.json'\n",
    "LEGACY_API_NAME = 'pagecounts'\n",
    "PAGEVIEW_API_NAME = 'pageviews'"
   ]
  },
  {
   "cell_type": "markdown",
   "metadata": {},
   "source": [
    "### Function to hit the provided API and retrieve data."
   ]
  },
  {
   "cell_type": "code",
   "execution_count": 3,
   "metadata": {},
   "outputs": [],
   "source": [
    "def get_data(api_endpoint, site_type, params):\n",
    "    \"\"\"\n",
    "        Function to retrieve the data from the provided API.\n",
    "        Args:\n",
    "            api_endpoint(str): Endpoint of the api.\n",
    "            site_type(str): Desktop or mobile or app.\n",
    "            params(dict): Dictionary of Request parameters.\n",
    "            \n",
    "        Returns:\n",
    "            response(json): Returns pagecount data in json format.\n",
    "    \"\"\"\n",
    "    # populating access point.\n",
    "    params['access'] = site_type\n",
    "    # Filling in the request body and generating get request. \n",
    "    call = requests.get(api_endpoint.format(**params), headers=HEADERS)\n",
    "    # Getting data in json format.\n",
    "    response = call.json()\n",
    "    return response"
   ]
  },
  {
   "cell_type": "markdown",
   "metadata": {},
   "source": [
    "## Part 1: Data Acquisition\n",
    "\n",
    "#### There are two data sources here: The pagecounts API and pageviews API. Pagecounts API is the older of the two and has info on mobile and desktop web traffic data. The pageviews API is the newer one. It can provide desktop and mobile web traffic, as well as, mobile app traffic data.  \n",
    "\n",
    "### Legacy API \n",
    "\n",
    "###### This step involves hitting the Wikipedia Legacy Pagecounts API to fetch the monthly pageview counts data for both mobile and desktop traffic from from January 1, 2008 till July 31, 2016. The data are stored as json files."
   ]
  },
  {
   "cell_type": "code",
   "execution_count": 4,
   "metadata": {},
   "outputs": [],
   "source": [
    "# Legacy API endpoint\n",
    "legacy_endpoint = (\n",
    "    'https://wikimedia.org/api/rest_v1/metrics/legacy/pagecounts/aggregate/'\n",
    "    '{project}/{access}/{granularity}/{start}/{end}'\n",
    ")\n",
    "\n",
    "# Defining common request parameters. \n",
    "# This specifies to retrieve monthly aggregated data, from user level traffic\n",
    "# between 2008/01 till 2016/08. \n",
    "legacy_request_params = {\n",
    "    'project' : 'en.wikipedia.org',\n",
    "    'granularity' : 'monthly',\n",
    "    'agent':'user',\n",
    "    'start' : '2008010100',\n",
    "    'end' : '2016080100'\n",
    "}\n",
    "\n",
    "legacy_supported_sites = ('desktop-site', 'mobile-site')\n",
    "\n",
    "# Getting data for each site type and write to disk\n",
    "for site_type in legacy_supported_sites:\n",
    "    data = get_data(legacy_endpoint, site_type, legacy_request_params)\n",
    "    \n",
    "    #File name will be of format \"apiname_accesstype_firstmonth-lastmonth.json\"\n",
    "    filename = FILE_NAME_FORMAT.format(\n",
    "        apiname=LEGACY_API_NAME,\n",
    "        accesstype=site_type,\n",
    "        start=legacy_request_params['start'][:-4],\n",
    "        end=\"201607\"\n",
    "    )\n",
    "    \n",
    "    with open('data/{}'.format(filename), 'w') as outfile:\n",
    "        json.dump(data, outfile) "
   ]
  },
  {
   "cell_type": "markdown",
   "metadata": {},
   "source": [
    "### Pageview API\n",
    "\n",
    "#### Here I am using the latest wikipedia api: Pageview API, for retrieving the pagecount data from July 2015 through September 2018. The Pageview api can also provide data from the wikipedia mobile app. The data are stored as json files."
   ]
  },
  {
   "cell_type": "code",
   "execution_count": 5,
   "metadata": {},
   "outputs": [],
   "source": [
    "pageview_endpoint = (\n",
    "    'https://wikimedia.org/api/rest_v1/metrics/'\n",
    "    'pageviews/aggregate/{project}/{access}/{agent}/{granularity}/{start}/{end}'\n",
    ")\n",
    "\n",
    "# The dates are July, 2015 - Sept 31, 2018 \n",
    "pageview_request_params = {\n",
    "    'project' : 'en.wikipedia.org',\n",
    "    'granularity' : 'monthly',\n",
    "    'agent':'user',\n",
    "    'start' : '2015070100',\n",
    "    'end' : '2018100100'\n",
    "}\n",
    "\n",
    "#Pageview supports mobileapp, desktop and mobile web traffic\n",
    "pageview_supported_sites = ('desktop', 'mobile-web', 'mobile-app')\n",
    "\n",
    "# Getting data for each site type and write to disk\n",
    "for site_type in pageview_supported_sites:\n",
    "    data = get_data(pageview_endpoint, site_type, pageview_request_params)\n",
    "    \n",
    "    #File name will be of format \"apiname_accesstype_firstmonth-lastmonth.json\"\n",
    "    filename = FILE_NAME_FORMAT.format(\n",
    "        apiname=PAGEVIEW_API_NAME,\n",
    "        accesstype=site_type,\n",
    "        start=pageview_request_params['start'][:-4],\n",
    "        end=\"201809\"\n",
    "    )\n",
    "    \n",
    "    with open('data/{}'.format(filename), 'w') as outfile:\n",
    "        json.dump(data, outfile) "
   ]
  },
  {
   "cell_type": "markdown",
   "metadata": {},
   "source": [
    "## Part 2 : Data processing\n",
    "The json files are opened and processed to obtain the final analytical dataset.\n",
    "There are three steps involved in this stage:\n",
    "- Monthly data from mobile web and app retrieved using the pageviews API will be combined to form the total mobile traffic data from pageviews.\n",
    "- The date will be split into years(YYYY) and month (MM) and the rest (day and hour) are discared. \n",
    "- If data is not present for a given month then it will be filled with 0.\n",
    "- The final processed data will be a dataframe with the following structure:\n",
    "\n",
    "<img src=\"dataframe.png\" alt=\"Drawing\" style=\"width: 200px;\"/>\n",
    "\n"
   ]
  },
  {
   "cell_type": "markdown",
   "metadata": {},
   "source": [
    "Function to get list of data files retrieved using the given API. \n",
    "Filters the filenames based on wherther their name contains the API name passed as arguement."
   ]
  },
  {
   "cell_type": "code",
   "execution_count": 6,
   "metadata": {},
   "outputs": [],
   "source": [
    "def get_api_specific_files(api_name):\n",
    "    files = [file for file in os.listdir('data/') if api_name in file]\n",
    "    return files"
   ]
  },
  {
   "cell_type": "markdown",
   "metadata": {},
   "source": [
    "Function to convert a json file to dataframe format. The json data is in the form of list of records under the key 'items'. Hence in order to create a pandas dataframe I extracted the value of key 'items' from the json data.  "
   ]
  },
  {
   "cell_type": "code",
   "execution_count": 7,
   "metadata": {},
   "outputs": [],
   "source": [
    "def convert_json_to_dataframe(json_file):\n",
    "    with open('data/' + file) as data_file:    \n",
    "        data = json.load(data_file)\n",
    "        df = pd.DataFrame(data['items'])\n",
    "        return df"
   ]
  },
  {
   "cell_type": "markdown",
   "metadata": {},
   "source": [
    "#### Processing Pageview API data.\n",
    "- Reading pageview json files and converting to dataframes.\n",
    "- Pageview dataframe contains the following columns: `access` , `agent`, `granularity`, `project`,`timestamp` and `views`\n",
    "- Concatenating all dataframes, retaining necessary columns like `access`, `timestamp` and `views`, where `access` is the site type (desktop, mobile, etc) and `views` is the pageview count.\n",
    "- Pivoting to get the dataframe in a proper format.\n",
    "- Filling any NaNs with zeroes.\n",
    "- Renaming `desktop` to `pageview_desktop_views`.\n",
    "- Adding `mobile-app` and `mobile-web` counts to get get `pageview_mobile_views`.\n",
    "- Adding `pageview_desktop_views` and `pageview_mobile_views` to get `pageview_all_views`\n",
    "- Dropping now unwanted columns like `access`, `mobile-app` and `mobile-web`.\n"
   ]
  },
  {
   "cell_type": "code",
   "execution_count": 10,
   "metadata": {},
   "outputs": [],
   "source": [
    "dataframes = []\n",
    "pageview_files = get_api_specific_files(PAGEVIEW_API_NAME)\n",
    "for file in pageview_files:\n",
    "    df = convert_json_to_dataframe(file)\n",
    "    dataframes.append(df)\n",
    "pageview_df = pd.concat(dataframes)\n",
    "#Keeping only necessary columns.\n",
    "pageview_df = pageview_df[[\"access\",\"timestamp\",\"views\"]]\n",
    "pageview_df = pageview_df.pivot(index=\"timestamp\",columns=\"access\",values=\"views\").reset_index()\n",
    "pageview_df = pageview_df.fillna(0)\n",
    "pageview_df = pageview_df.rename(columns={'desktop':'pageview_desktop_views'})\n",
    "pageview_df['pageview_mobile_views'] = pageview_df['mobile-app']+pageview_df['mobile-web']\n",
    "pageview_df['pageview_all_views'] = pageview_df['pageview_desktop_views']+pageview_df['pageview_mobile_views']\n",
    "pageview_df = pageview_df.drop(['mobile-app' ,'mobile-web'],axis=1)\n",
    "#Cleaning unwanted index names that crops up during pivotting.\n",
    "pageview_df = pageview_df.rename_axis(None, axis=1).reset_index(drop=True) "
   ]
  },
  {
   "cell_type": "markdown",
   "metadata": {},
   "source": [
    "#### The pageview dataframe sample after processing."
   ]
  },
  {
   "cell_type": "code",
   "execution_count": 11,
   "metadata": {},
   "outputs": [
    {
     "data": {
      "text/html": [
       "<div>\n",
       "<style scoped>\n",
       "    .dataframe tbody tr th:only-of-type {\n",
       "        vertical-align: middle;\n",
       "    }\n",
       "\n",
       "    .dataframe tbody tr th {\n",
       "        vertical-align: top;\n",
       "    }\n",
       "\n",
       "    .dataframe thead th {\n",
       "        text-align: right;\n",
       "    }\n",
       "</style>\n",
       "<table border=\"1\" class=\"dataframe\">\n",
       "  <thead>\n",
       "    <tr style=\"text-align: right;\">\n",
       "      <th></th>\n",
       "      <th>timestamp</th>\n",
       "      <th>pageview_desktop_views</th>\n",
       "      <th>pageview_mobile_views</th>\n",
       "      <th>pageview_all_views</th>\n",
       "    </tr>\n",
       "  </thead>\n",
       "  <tbody>\n",
       "    <tr>\n",
       "      <th>0</th>\n",
       "      <td>2015070100</td>\n",
       "      <td>4376666686</td>\n",
       "      <td>3288755294</td>\n",
       "      <td>7665421980</td>\n",
       "    </tr>\n",
       "    <tr>\n",
       "      <th>1</th>\n",
       "      <td>2015080100</td>\n",
       "      <td>4332482183</td>\n",
       "      <td>3302333038</td>\n",
       "      <td>7634815221</td>\n",
       "    </tr>\n",
       "    <tr>\n",
       "      <th>2</th>\n",
       "      <td>2015090100</td>\n",
       "      <td>4485491704</td>\n",
       "      <td>3170203333</td>\n",
       "      <td>7655695037</td>\n",
       "    </tr>\n",
       "    <tr>\n",
       "      <th>3</th>\n",
       "      <td>2015100100</td>\n",
       "      <td>4477532755</td>\n",
       "      <td>3268499132</td>\n",
       "      <td>7746031887</td>\n",
       "    </tr>\n",
       "    <tr>\n",
       "      <th>4</th>\n",
       "      <td>2015110100</td>\n",
       "      <td>4287720220</td>\n",
       "      <td>3236601070</td>\n",
       "      <td>7524321290</td>\n",
       "    </tr>\n",
       "  </tbody>\n",
       "</table>\n",
       "</div>"
      ],
      "text/plain": [
       "    timestamp  pageview_desktop_views  pageview_mobile_views  \\\n",
       "0  2015070100              4376666686             3288755294   \n",
       "1  2015080100              4332482183             3302333038   \n",
       "2  2015090100              4485491704             3170203333   \n",
       "3  2015100100              4477532755             3268499132   \n",
       "4  2015110100              4287720220             3236601070   \n",
       "\n",
       "   pageview_all_views  \n",
       "0          7665421980  \n",
       "1          7634815221  \n",
       "2          7655695037  \n",
       "3          7746031887  \n",
       "4          7524321290  "
      ]
     },
     "execution_count": 11,
     "metadata": {},
     "output_type": "execute_result"
    }
   ],
   "source": [
    "pageview_df.head()"
   ]
  },
  {
   "cell_type": "markdown",
   "metadata": {},
   "source": [
    "#### Repeating the same procedure above for pagecount  data.\n",
    "- Pagecount dataframe contains the following columns: `access-site` ,  `granularity`, `project`,`timestamp` and `count`\n",
    "- Concatenating all dataframes, retaining necessary columns like `access-site`, `timestamp` and `count`, where `access-site` is the site type (desktop, mobile, etc) and `count` is the traffic count.\n",
    "- Pivoting to get the dataframe in a proper format.\n",
    "- Renaming columns `desktop-site` to `pagecount_desktop_views`and `mobile-site` to `pagecount_mobile_views`.\n",
    "- Filling any NaNs with zeroes.\n",
    "- Adding `pagecount_desktop_views` and `pagecount_mobile_views` to get `pagecount_all_views`\n",
    "- Dropping now unwanted columns like `access-site`\n"
   ]
  },
  {
   "cell_type": "code",
   "execution_count": 12,
   "metadata": {},
   "outputs": [],
   "source": [
    "dataframes = []\n",
    "pagecount_files = get_api_specific_files(LEGACY_API_NAME)\n",
    "for file in pagecount_files:\n",
    "    df = convert_json_to_dataframe(file)\n",
    "    dataframes.append(df)\n",
    "#Concatenating     \n",
    "pagecount_df = pd.concat(dataframes)\n",
    "#Keeping only necessary columns.\n",
    "pagecount_df = pagecount_df[[\"access-site\",\"timestamp\",\"count\"]]\n",
    "pagecount_df = pagecount_df.pivot(index=\"timestamp\",columns=\"access-site\",values=\"count\").reset_index()\n",
    "pagecount_df = pagecount_df.rename(columns={\n",
    "    'desktop-site':'pagecount_desktop_views',\n",
    "    'mobile-site':'pagecount_mobile_views'\n",
    "})\n",
    "pagecount_df = pagecount_df.fillna(0)\n",
    "pagecount_df['pagecount_all_views'] = pagecount_df['pagecount_desktop_views']+pagecount_df['pagecount_mobile_views']\n",
    "#Cleaning unwanted index names that crops up during pivotting.\n",
    "pagecount_df = pagecount_df.rename_axis(None, axis=1).reset_index(drop=True) "
   ]
  },
  {
   "cell_type": "code",
   "execution_count": 13,
   "metadata": {},
   "outputs": [
    {
     "data": {
      "text/html": [
       "<div>\n",
       "<style scoped>\n",
       "    .dataframe tbody tr th:only-of-type {\n",
       "        vertical-align: middle;\n",
       "    }\n",
       "\n",
       "    .dataframe tbody tr th {\n",
       "        vertical-align: top;\n",
       "    }\n",
       "\n",
       "    .dataframe thead th {\n",
       "        text-align: right;\n",
       "    }\n",
       "</style>\n",
       "<table border=\"1\" class=\"dataframe\">\n",
       "  <thead>\n",
       "    <tr style=\"text-align: right;\">\n",
       "      <th></th>\n",
       "      <th>timestamp</th>\n",
       "      <th>pagecount_desktop_views</th>\n",
       "      <th>pagecount_mobile_views</th>\n",
       "      <th>pagecount_all_views</th>\n",
       "    </tr>\n",
       "  </thead>\n",
       "  <tbody>\n",
       "    <tr>\n",
       "      <th>0</th>\n",
       "      <td>2008010100</td>\n",
       "      <td>4.930903e+09</td>\n",
       "      <td>0.0</td>\n",
       "      <td>4.930903e+09</td>\n",
       "    </tr>\n",
       "    <tr>\n",
       "      <th>1</th>\n",
       "      <td>2008020100</td>\n",
       "      <td>4.818394e+09</td>\n",
       "      <td>0.0</td>\n",
       "      <td>4.818394e+09</td>\n",
       "    </tr>\n",
       "    <tr>\n",
       "      <th>2</th>\n",
       "      <td>2008030100</td>\n",
       "      <td>4.955406e+09</td>\n",
       "      <td>0.0</td>\n",
       "      <td>4.955406e+09</td>\n",
       "    </tr>\n",
       "    <tr>\n",
       "      <th>3</th>\n",
       "      <td>2008040100</td>\n",
       "      <td>5.159162e+09</td>\n",
       "      <td>0.0</td>\n",
       "      <td>5.159162e+09</td>\n",
       "    </tr>\n",
       "    <tr>\n",
       "      <th>4</th>\n",
       "      <td>2008050100</td>\n",
       "      <td>5.584691e+09</td>\n",
       "      <td>0.0</td>\n",
       "      <td>5.584691e+09</td>\n",
       "    </tr>\n",
       "  </tbody>\n",
       "</table>\n",
       "</div>"
      ],
      "text/plain": [
       "    timestamp  pagecount_desktop_views  pagecount_mobile_views  \\\n",
       "0  2008010100             4.930903e+09                     0.0   \n",
       "1  2008020100             4.818394e+09                     0.0   \n",
       "2  2008030100             4.955406e+09                     0.0   \n",
       "3  2008040100             5.159162e+09                     0.0   \n",
       "4  2008050100             5.584691e+09                     0.0   \n",
       "\n",
       "   pagecount_all_views  \n",
       "0         4.930903e+09  \n",
       "1         4.818394e+09  \n",
       "2         4.955406e+09  \n",
       "3         5.159162e+09  \n",
       "4         5.584691e+09  "
      ]
     },
     "execution_count": 13,
     "metadata": {},
     "output_type": "execute_result"
    }
   ],
   "source": [
    "pagecount_df.head()"
   ]
  },
  {
   "cell_type": "markdown",
   "metadata": {},
   "source": [
    "### Merging both dataframes to get the final analytical dataset.\n",
    "Here we need to use `outer` join and fill all NaNs with 0s."
   ]
  },
  {
   "cell_type": "code",
   "execution_count": 14,
   "metadata": {},
   "outputs": [],
   "source": [
    "final_df = pd.merge(pagecount_df,pageview_df,on='timestamp',how='outer')\n",
    "final_df = final_df.fillna(0)"
   ]
  },
  {
   "cell_type": "markdown",
   "metadata": {},
   "source": [
    "### Before saving the file, we need to split  `timestamp` into `month` and `year` and then drop the `timestamp` column."
   ]
  },
  {
   "cell_type": "code",
   "execution_count": 15,
   "metadata": {},
   "outputs": [],
   "source": [
    "#The year is the first four characters in timestamp and the month follows after it.\n",
    "final_df['year'] = final_df['timestamp'].str[0:4]\n",
    "final_df['month'] = final_df['timestamp'].str[4:6]\n",
    "final_df.drop('timestamp',axis=1, inplace=True)\n",
    "final_df = final_df[[\"year\",\"month\",\"pagecount_all_views\",\"pagecount_desktop_views\",\"pagecount_mobile_views\",\"pageview_all_views\",\"pageview_desktop_views\",\"pageview_mobile_views\"]]"
   ]
  },
  {
   "cell_type": "code",
   "execution_count": 16,
   "metadata": {},
   "outputs": [
    {
     "data": {
      "text/html": [
       "<div>\n",
       "<style scoped>\n",
       "    .dataframe tbody tr th:only-of-type {\n",
       "        vertical-align: middle;\n",
       "    }\n",
       "\n",
       "    .dataframe tbody tr th {\n",
       "        vertical-align: top;\n",
       "    }\n",
       "\n",
       "    .dataframe thead th {\n",
       "        text-align: right;\n",
       "    }\n",
       "</style>\n",
       "<table border=\"1\" class=\"dataframe\">\n",
       "  <thead>\n",
       "    <tr style=\"text-align: right;\">\n",
       "      <th></th>\n",
       "      <th>year</th>\n",
       "      <th>month</th>\n",
       "      <th>pagecount_all_views</th>\n",
       "      <th>pagecount_desktop_views</th>\n",
       "      <th>pagecount_mobile_views</th>\n",
       "      <th>pageview_all_views</th>\n",
       "      <th>pageview_desktop_views</th>\n",
       "      <th>pageview_mobile_views</th>\n",
       "    </tr>\n",
       "  </thead>\n",
       "  <tbody>\n",
       "    <tr>\n",
       "      <th>0</th>\n",
       "      <td>2008</td>\n",
       "      <td>01</td>\n",
       "      <td>4.930903e+09</td>\n",
       "      <td>4.930903e+09</td>\n",
       "      <td>0.0</td>\n",
       "      <td>0.0</td>\n",
       "      <td>0.0</td>\n",
       "      <td>0.0</td>\n",
       "    </tr>\n",
       "    <tr>\n",
       "      <th>1</th>\n",
       "      <td>2008</td>\n",
       "      <td>02</td>\n",
       "      <td>4.818394e+09</td>\n",
       "      <td>4.818394e+09</td>\n",
       "      <td>0.0</td>\n",
       "      <td>0.0</td>\n",
       "      <td>0.0</td>\n",
       "      <td>0.0</td>\n",
       "    </tr>\n",
       "    <tr>\n",
       "      <th>2</th>\n",
       "      <td>2008</td>\n",
       "      <td>03</td>\n",
       "      <td>4.955406e+09</td>\n",
       "      <td>4.955406e+09</td>\n",
       "      <td>0.0</td>\n",
       "      <td>0.0</td>\n",
       "      <td>0.0</td>\n",
       "      <td>0.0</td>\n",
       "    </tr>\n",
       "    <tr>\n",
       "      <th>3</th>\n",
       "      <td>2008</td>\n",
       "      <td>04</td>\n",
       "      <td>5.159162e+09</td>\n",
       "      <td>5.159162e+09</td>\n",
       "      <td>0.0</td>\n",
       "      <td>0.0</td>\n",
       "      <td>0.0</td>\n",
       "      <td>0.0</td>\n",
       "    </tr>\n",
       "    <tr>\n",
       "      <th>4</th>\n",
       "      <td>2008</td>\n",
       "      <td>05</td>\n",
       "      <td>5.584691e+09</td>\n",
       "      <td>5.584691e+09</td>\n",
       "      <td>0.0</td>\n",
       "      <td>0.0</td>\n",
       "      <td>0.0</td>\n",
       "      <td>0.0</td>\n",
       "    </tr>\n",
       "  </tbody>\n",
       "</table>\n",
       "</div>"
      ],
      "text/plain": [
       "   year month  pagecount_all_views  pagecount_desktop_views  \\\n",
       "0  2008    01         4.930903e+09             4.930903e+09   \n",
       "1  2008    02         4.818394e+09             4.818394e+09   \n",
       "2  2008    03         4.955406e+09             4.955406e+09   \n",
       "3  2008    04         5.159162e+09             5.159162e+09   \n",
       "4  2008    05         5.584691e+09             5.584691e+09   \n",
       "\n",
       "   pagecount_mobile_views  pageview_all_views  pageview_desktop_views  \\\n",
       "0                     0.0                 0.0                     0.0   \n",
       "1                     0.0                 0.0                     0.0   \n",
       "2                     0.0                 0.0                     0.0   \n",
       "3                     0.0                 0.0                     0.0   \n",
       "4                     0.0                 0.0                     0.0   \n",
       "\n",
       "   pageview_mobile_views  \n",
       "0                    0.0  \n",
       "1                    0.0  \n",
       "2                    0.0  \n",
       "3                    0.0  \n",
       "4                    0.0  "
      ]
     },
     "execution_count": 16,
     "metadata": {},
     "output_type": "execute_result"
    }
   ],
   "source": [
    "final_df.head()"
   ]
  },
  {
   "cell_type": "markdown",
   "metadata": {},
   "source": [
    "#### Saving the data."
   ]
  },
  {
   "cell_type": "code",
   "execution_count": 17,
   "metadata": {},
   "outputs": [],
   "source": [
    "final_df.to_csv('data/en-wikipedia_traffic_200712-201809.csv',index=False)"
   ]
  },
  {
   "cell_type": "markdown",
   "metadata": {},
   "source": [
    "### Part 3: Analysis\n",
    "\n",
    "This part basically covers visualizing the data as time-series sequences. We can see how Wikipedia usage has shifted across time.\n",
    "- For plotting convenience I am concatenating the year and month column to get a time series."
   ]
  },
  {
   "cell_type": "code",
   "execution_count": 18,
   "metadata": {},
   "outputs": [],
   "source": [
    "#Reading in the analytic dataset.\n",
    "wikidata_df = pd.read_csv('data/en-wikipedia_traffic_200712-201809.csv')\n",
    "wikidata_df['time'] = pd.to_datetime(wikidata_df[['year', 'month']].assign(Day=1))\n",
    "wikidata_df.drop(['year','month'],axis=1,inplace=True)\n",
    "wikidata_df = wikidata_df.set_index('time')\n",
    "wikidata_df = wikidata_df.divide(1000000,axis=1)\n",
    "#Replacing 0s with NaNs to hide 0s in the plot.\n",
    "wikidata_df = wikidata_df.replace(to_replace=0,value=np.nan)"
   ]
  },
  {
   "cell_type": "code",
   "execution_count": 19,
   "metadata": {},
   "outputs": [
    {
     "data": {
      "image/png": "[encoded data removed]",
      "text/plain": [
       "<Figure size 1080x504 with 1 Axes>"
      ]
     },
     "metadata": {},
     "output_type": "display_data"
    }
   ],
   "source": [
    "fig = plt.figure(figsize = (15,7))\n",
    "ax = fig.gca()\n",
    "wikidata_df.plot(ax=ax)\n",
    "ax.grid(True)\n",
    "ax.set_xlabel('Time')\n",
    "ax.set_ylabel('Views (in millions)')\n",
    "ax.set_title('Wikipedia Page Views. From January, 2008 - September 2018')\n",
    "custom_legend_labels = ['Pagecount API All Views','Pagecount API Desktop Views', 'Pagecount API Mobile Views',\n",
    "                        'Pageview API All Views', 'Pageview API Desktop Views', 'Pageview API Mobile Views']\n",
    "legend = ax.legend(labels=custom_legend_labels)\n",
    "#Saving the Figure\n",
    "fig.savefig('wiki_pageviews_2008_2018.png')"
   ]
  }
 ],
 "metadata": {
  "kernelspec": {
   "display_name": "Python 3",
   "language": "python",
   "name": "python3"
  },
  "language_info": {
   "codemirror_mode": {
    "name": "ipython",
    "version": 3
   },
   "file_extension": ".py",
   "mimetype": "text/x-python",
   "name": "python",
   "nbconvert_exporter": "python",
   "pygments_lexer": "ipython3",
   "version": "3.6.5"
  }
 },
 "nbformat": 4,
 "nbformat_minor": 2
}
